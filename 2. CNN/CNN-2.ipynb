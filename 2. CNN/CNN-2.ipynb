{
 "cells": [
  {
   "cell_type": "code",
   "execution_count": 2,
   "id": "19b64271-9993-409f-9f8b-74a7905f4bd8",
   "metadata": {},
   "outputs": [],
   "source": [
    "# CNN to analyze cifar10 dataset and classify the given image into on of the 10 classes of images.\n",
    "#image recognition from 10 different types.\n",
    "from tensorflow.keras.models import Sequential\n",
    "from tensorflow.keras.layers import Dense, Dropout, Flatten, Conv2D, MaxPooling2D\n",
    "import numpy as np"
   ]
  },
  {
   "cell_type": "code",
   "execution_count": 4,
   "id": "15f39b27-03e3-49ee-bd6f-d901faf4a00b",
   "metadata": {},
   "outputs": [
    {
     "name": "stdout",
     "output_type": "stream",
     "text": [
      "Downloading data from https://www.cs.toronto.edu/~kriz/cifar-10-python.tar.gz\n",
      "\u001b[1m170498071/170498071\u001b[0m \u001b[32m━━━━━━━━━━━━━━━━━━━━\u001b[0m\u001b[37m\u001b[0m \u001b[1m621s\u001b[0m 4us/step\n"
     ]
    }
   ],
   "source": [
    "# load cifar10 data for image recognition from keras datasets\n",
    "from tensorflow.keras.datasets import cifar10\n",
    "(x_train, y_train), (x_test, y_test) = cifar10.load_data()"
   ]
  },
  {
   "cell_type": "code",
   "execution_count": 5,
   "id": "7884e8ad-2aa2-4609-a20c-29ee36f63950",
   "metadata": {},
   "outputs": [
    {
     "name": "stdout",
     "output_type": "stream",
     "text": [
      "shape of training data  (50000, 32, 32, 3)\n",
      "Shape of testing data= (10000, 32, 32, 3)\n",
      "No. of Training samples= 50000\n",
      "No. of Testing samples= 10000\n"
     ]
    }
   ],
   "source": [
    "# display the shape of data\n",
    "print('shape of training data ', x_train.shape)\n",
    "print('Shape of testing data=', x_test.shape)\n",
    "print(\"No. of Training samples=\", x_train.shape[0])\n",
    "print('No. of Testing samples=', x_test.shape[0])"
   ]
  },
  {
   "cell_type": "code",
   "execution_count": 6,
   "id": "1abfab9e-e791-4d21-ab8b-837fd67c0b34",
   "metadata": {},
   "outputs": [
    {
     "name": "stdout",
     "output_type": "stream",
     "text": [
      "[[[ 59  62  63]\n",
      "  [ 43  46  45]\n",
      "  [ 50  48  43]\n",
      "  ...\n",
      "  [158 132 108]\n",
      "  [152 125 102]\n",
      "  [148 124 103]]\n",
      "\n",
      " [[ 16  20  20]\n",
      "  [  0   0   0]\n",
      "  [ 18   8   0]\n",
      "  ...\n",
      "  [123  88  55]\n",
      "  [119  83  50]\n",
      "  [122  87  57]]\n",
      "\n",
      " [[ 25  24  21]\n",
      "  [ 16   7   0]\n",
      "  [ 49  27   8]\n",
      "  ...\n",
      "  [118  84  50]\n",
      "  [120  84  50]\n",
      "  [109  73  42]]\n",
      "\n",
      " ...\n",
      "\n",
      " [[208 170  96]\n",
      "  [201 153  34]\n",
      "  [198 161  26]\n",
      "  ...\n",
      "  [160 133  70]\n",
      "  [ 56  31   7]\n",
      "  [ 53  34  20]]\n",
      "\n",
      " [[180 139  96]\n",
      "  [173 123  42]\n",
      "  [186 144  30]\n",
      "  ...\n",
      "  [184 148  94]\n",
      "  [ 97  62  34]\n",
      "  [ 83  53  34]]\n",
      "\n",
      " [[177 144 116]\n",
      "  [168 129  94]\n",
      "  [179 142  87]\n",
      "  ...\n",
      "  [216 184 140]\n",
      "  [151 118  84]\n",
      "  [123  92  72]]]\n"
     ]
    }
   ],
   "source": [
    "# display the values of 0th image array.\n",
    "print(x_train[0])"
   ]
  },
  {
   "cell_type": "code",
   "execution_count": 7,
   "id": "38aaaeef-7f5a-44b1-ac14-55fdf5dd51e9",
   "metadata": {},
   "outputs": [],
   "source": [
    "# Normalize pixel values to be between 0 and 1\n",
    "x_train, x_test = x_train / 255.0, x_test/ 255.0"
   ]
  },
  {
   "cell_type": "code",
   "execution_count": 8,
   "id": "d8064473-71e7-44d3-a9bb-b1e01cd4a020",
   "metadata": {},
   "outputs": [
    {
     "name": "stdout",
     "output_type": "stream",
     "text": [
      "[[[0.23137255 0.24313725 0.24705882]\n",
      "  [0.16862745 0.18039216 0.17647059]\n",
      "  [0.19607843 0.18823529 0.16862745]\n",
      "  ...\n",
      "  [0.61960784 0.51764706 0.42352941]\n",
      "  [0.59607843 0.49019608 0.4       ]\n",
      "  [0.58039216 0.48627451 0.40392157]]\n",
      "\n",
      " [[0.0627451  0.07843137 0.07843137]\n",
      "  [0.         0.         0.        ]\n",
      "  [0.07058824 0.03137255 0.        ]\n",
      "  ...\n",
      "  [0.48235294 0.34509804 0.21568627]\n",
      "  [0.46666667 0.3254902  0.19607843]\n",
      "  [0.47843137 0.34117647 0.22352941]]\n",
      "\n",
      " [[0.09803922 0.09411765 0.08235294]\n",
      "  [0.0627451  0.02745098 0.        ]\n",
      "  [0.19215686 0.10588235 0.03137255]\n",
      "  ...\n",
      "  [0.4627451  0.32941176 0.19607843]\n",
      "  [0.47058824 0.32941176 0.19607843]\n",
      "  [0.42745098 0.28627451 0.16470588]]\n",
      "\n",
      " ...\n",
      "\n",
      " [[0.81568627 0.66666667 0.37647059]\n",
      "  [0.78823529 0.6        0.13333333]\n",
      "  [0.77647059 0.63137255 0.10196078]\n",
      "  ...\n",
      "  [0.62745098 0.52156863 0.2745098 ]\n",
      "  [0.21960784 0.12156863 0.02745098]\n",
      "  [0.20784314 0.13333333 0.07843137]]\n",
      "\n",
      " [[0.70588235 0.54509804 0.37647059]\n",
      "  [0.67843137 0.48235294 0.16470588]\n",
      "  [0.72941176 0.56470588 0.11764706]\n",
      "  ...\n",
      "  [0.72156863 0.58039216 0.36862745]\n",
      "  [0.38039216 0.24313725 0.13333333]\n",
      "  [0.3254902  0.20784314 0.13333333]]\n",
      "\n",
      " [[0.69411765 0.56470588 0.45490196]\n",
      "  [0.65882353 0.50588235 0.36862745]\n",
      "  [0.70196078 0.55686275 0.34117647]\n",
      "  ...\n",
      "  [0.84705882 0.72156863 0.54901961]\n",
      "  [0.59215686 0.4627451  0.32941176]\n",
      "  [0.48235294 0.36078431 0.28235294]]]\n"
     ]
    }
   ],
   "source": [
    "#display again after normalization\n",
    "print(x_train[0])"
   ]
  },
  {
   "cell_type": "code",
   "execution_count": 9,
   "id": "6f2a2447-87a2-43e9-9ab2-57c20bed1d11",
   "metadata": {},
   "outputs": [
    {
     "name": "stdout",
     "output_type": "stream",
     "text": [
      "[6]\n"
     ]
    }
   ],
   "source": [
    "#display a sample train image array and label\n",
    "arr= y_train[0] # take Oth image\n",
    "print(arr)"
   ]
  },
  {
   "cell_type": "code",
   "execution_count": 25,
   "id": "33293281-0219-4ecd-aa45-abcfac111baa",
   "metadata": {},
   "outputs": [
    {
     "data": {
      "image/png": "[encoded data removed]",
      "text/plain": [
       "<Figure size 640x480 with 1 Axes>"
      ]
     },
     "metadata": {},
     "output_type": "display_data"
    }
   ],
   "source": [
    "import matplotlib.pyplot as plt\n",
    "plt.imshow(x_train[1])\n",
    "plt.show()"
   ]
  },
  {
   "cell_type": "code",
   "execution_count": 11,
   "id": "1a1578ee-1542-4761-b738-aee5e8b26dfe",
   "metadata": {},
   "outputs": [],
   "source": [
    "#to display first 10 images\n",
    "#take the cl ass names in a 1ist\n",
    "class_names = ['airplane', 'automobile', 'bird', 'cat' , 'deer', 'dog', 'frog' , 'horse', 'ship', \"truck\"]"
   ]
  },
  {
   "cell_type": "code",
   "execution_count": 12,
   "id": "26469ceb-e69e-40ad-8d61-279febb60c14",
   "metadata": {},
   "outputs": [
    {
     "data": {
      "text/plain": [
       "<Figure size 1000x1000 with 0 Axes>"
      ]
     },
     "execution_count": 12,
     "metadata": {},
     "output_type": "execute_result"
    },
    {
     "data": {
      "text/plain": [
       "<Figure size 1000x1000 with 0 Axes>"
      ]
     },
     "metadata": {},
     "output_type": "display_data"
    }
   ],
   "source": [
    "plt.figure(figsize=(10 ,10))\n",
    "# 10x10 inches -> width and height of the plot"
   ]
  },
  {
   "cell_type": "code",
   "execution_count": 13,
   "id": "736b8bdd-fa7e-46ff-adad-f44cf386d0db",
   "metadata": {},
   "outputs": [
    {
     "data": {
      "image/png": "[encoded data removed]",
      "text/plain": [
       "<Figure size 640x480 with 10 Axes>"
      ]
     },
     "metadata": {},
     "output_type": "display_data"
    }
   ],
   "source": [
    "for i in range(10):\n",
    "    plt.subplot (5, 5,i+1)\n",
    "    plt.xticks([]) # allot space on X axis for names\n",
    "    plt.imshow(x_train[i]) # display the image\n",
    "    plt.xlabel(class_names[y_train[i][0]]) # display name on X axis"
   ]
  },
  {
   "cell_type": "code",
   "execution_count": 14,
   "id": "2fa16a77-59ee-4c28-8cfa-91cf9ac8801a",
   "metadata": {},
   "outputs": [],
   "source": [
    "# convert labels into categorical values\n",
    "from tensorflow. keras import utils # there are 10 classes\n",
    "y_train = utils.to_categorical(y_train, 10)\n",
    "y_test = utils.to_categorical(y_test, 10)"
   ]
  },
  {
   "cell_type": "code",
   "execution_count": 18,
   "id": "dbfef5bf-1b2f-4023-9e58-5188fb763897",
   "metadata": {},
   "outputs": [],
   "source": [
    "# build our CNN model\n",
    "model = Sequential(\n",
    "    [\n",
    "    Dense(64, input_shape= (32, 32, 3)),\n",
    "    Conv2D(64, kernel_size=(3, 3), activation='relu'),\n",
    "    Conv2D(64, (3, 3), activation='relu'),\n",
    "    MaxPooling2D(pool_size=(2, 2)),\n",
    "    Conv2D(128, (3, 3), activation='relu'),\n",
    "    Conv2D(128, (3, 3), activation='relu'),\n",
    "    MaxPooling2D(pool_size=(2, 2)),\n",
    "    Dropout(0.5),\n",
    "    Flatten(),\n",
    "    Dense(128, activation='relu'),\n",
    "    Dense(10, activation='softmax')\n",
    "    ]\n",
    ")"
   ]
  },
  {
   "cell_type": "code",
   "execution_count": 26,
   "id": "69c53fbd-12f8-4fea-9942-285ed25cb325",
   "metadata": {},
   "outputs": [],
   "source": [
    "# compile the model\n",
    "model.compile(loss='categorical_crossentropy', optimizer='adam',metrics= ['accuracy'],)"
   ]
  },
  {
   "cell_type": "code",
   "execution_count": 23,
   "id": "f69afe55-778a-4896-9413-49fbaad3b303",
   "metadata": {},
   "outputs": [
    {
     "name": "stdout",
     "output_type": "stream",
     "text": [
      "Epoch 1/10\n",
      "\u001b[1m1563/1563\u001b[0m \u001b[32m━━━━━━━━━━━━━━━━━━━━\u001b[0m\u001b[37m\u001b[0m \u001b[1m326s\u001b[0m 206ms/step - accuracy: 0.3360 - loss: 1.7861 - val_accuracy: 0.5469 - val_loss: 1.2576\n",
      "Epoch 2/10\n",
      "\u001b[1m1563/1563\u001b[0m \u001b[32m━━━━━━━━━━━━━━━━━━━━\u001b[0m\u001b[37m\u001b[0m \u001b[1m332s\u001b[0m 213ms/step - accuracy: 0.5872 - loss: 1.1584 - val_accuracy: 0.6767 - val_loss: 0.9248\n",
      "Epoch 3/10\n",
      "\u001b[1m1563/1563\u001b[0m \u001b[32m━━━━━━━━━━━━━━━━━━━━\u001b[0m\u001b[37m\u001b[0m \u001b[1m344s\u001b[0m 220ms/step - accuracy: 0.6751 - loss: 0.9272 - val_accuracy: 0.7105 - val_loss: 0.8270\n",
      "Epoch 4/10\n",
      "\u001b[1m1563/1563\u001b[0m \u001b[32m━━━━━━━━━━━━━━━━━━━━\u001b[0m\u001b[37m\u001b[0m \u001b[1m334s\u001b[0m 214ms/step - accuracy: 0.7179 - loss: 0.8066 - val_accuracy: 0.7344 - val_loss: 0.7650\n",
      "Epoch 5/10\n",
      "\u001b[1m1563/1563\u001b[0m \u001b[32m━━━━━━━━━━━━━━━━━━━━\u001b[0m\u001b[37m\u001b[0m \u001b[1m344s\u001b[0m 220ms/step - accuracy: 0.7437 - loss: 0.7303 - val_accuracy: 0.7493 - val_loss: 0.7329\n",
      "Epoch 6/10\n",
      "\u001b[1m1563/1563\u001b[0m \u001b[32m━━━━━━━━━━━━━━━━━━━━\u001b[0m\u001b[37m\u001b[0m \u001b[1m663s\u001b[0m 424ms/step - accuracy: 0.7683 - loss: 0.6609 - val_accuracy: 0.7613 - val_loss: 0.7042\n",
      "Epoch 7/10\n",
      "\u001b[1m1563/1563\u001b[0m \u001b[32m━━━━━━━━━━━━━━━━━━━━\u001b[0m\u001b[37m\u001b[0m \u001b[1m916s\u001b[0m 586ms/step - accuracy: 0.7903 - loss: 0.6009 - val_accuracy: 0.7709 - val_loss: 0.6774\n",
      "Epoch 8/10\n",
      "\u001b[1m1563/1563\u001b[0m \u001b[32m━━━━━━━━━━━━━━━━━━━━\u001b[0m\u001b[37m\u001b[0m \u001b[1m1002s\u001b[0m 641ms/step - accuracy: 0.8006 - loss: 0.5635 - val_accuracy: 0.7696 - val_loss: 0.6793\n",
      "Epoch 9/10\n",
      "\u001b[1m1563/1563\u001b[0m \u001b[32m━━━━━━━━━━━━━━━━━━━━\u001b[0m\u001b[37m\u001b[0m \u001b[1m991s\u001b[0m 634ms/step - accuracy: 0.8140 - loss: 0.5263 - val_accuracy: 0.7817 - val_loss: 0.6458\n",
      "Epoch 10/10\n",
      "\u001b[1m1563/1563\u001b[0m \u001b[32m━━━━━━━━━━━━━━━━━━━━\u001b[0m\u001b[37m\u001b[0m \u001b[1m2214s\u001b[0m 1s/step - accuracy: 0.8254 - loss: 0.4926 - val_accuracy: 0.7781 - val_loss: 0.6563\n"
     ]
    }
   ],
   "source": [
    "#train the model\n",
    "history=model.fit(x_train, y_train, \n",
    "                  batch_size=32, # no, of samples.\n",
    "                  epochs=10,\n",
    "                  verbose=1,\n",
    "                  # 0 = silent, 1 = progress bar, 2 = one line per epoch.\n",
    "                  validation_data=(x_test, y_test))"
   ]
  },
  {
   "cell_type": "code",
   "execution_count": 27,
   "id": "fba1da7a-c9ab-4a4c-bc51-42cebd8076e5",
   "metadata": {},
   "outputs": [
    {
     "name": "stdout",
     "output_type": "stream",
     "text": [
      "\u001b[1m313/313\u001b[0m \u001b[32m━━━━━━━━━━━━━━━━━━━━\u001b[0m\u001b[37m\u001b[0m \u001b[1m75s\u001b[0m 230ms/step - accuracy: 0.7855 - loss: 0.6360\n",
      "0.65627521276474 0.7781000137329102\n"
     ]
    }
   ],
   "source": [
    "# evaluate the model\n",
    "val_loss, val_acc = model.evaluate(x_test, y_test)\n",
    "print(val_loss, val_acc)"
   ]
  },
  {
   "cell_type": "code",
   "execution_count": 28,
   "id": "039d247d-39b2-4d61-83ba-152b0e16e2de",
   "metadata": {},
   "outputs": [
    {
     "name": "stdout",
     "output_type": "stream",
     "text": [
      "\u001b[1m1/1\u001b[0m \u001b[32m━━━━━━━━━━━━━━━━━━━━\u001b[0m\u001b[37m\u001b[0m \u001b[1m1s\u001b[0m 1s/step\n",
      "[[2.3343822e-04 6.3413044e-04 4.1497469e-06 2.0174329e-07 2.7830278e-09\n",
      "  1.0827390e-08 6.6329684e-09 4.6740411e-06 2.7134758e-04 9.9885201e-01]]\n"
     ]
    }
   ],
   "source": [
    "# make prediction with 1st test data\n",
    "arr=model.predict([x_train[1].reshape(1, 32,32,3)])\n",
    "print(arr)"
   ]
  },
  {
   "cell_type": "code",
   "execution_count": 29,
   "id": "f8ccbcf3-339a-4a83-95ae-9ac3a6da6821",
   "metadata": {},
   "outputs": [
    {
     "name": "stdout",
     "output_type": "stream",
     "text": [
      "9\n"
     ]
    }
   ],
   "source": [
    "label = np.argmax(arr)\n",
    "print(label)"
   ]
  },
  {
   "cell_type": "code",
   "execution_count": 30,
   "id": "d52405c9-b6dc-41ee-a22d-9820588edb19",
   "metadata": {},
   "outputs": [],
   "source": [
    "#9"
   ]
  }
 ],
 "metadata": {
  "kernelspec": {
   "display_name": "Python 3 (ipykernel)",
   "language": "python",
   "name": "python3"
  },
  "language_info": {
   "codemirror_mode": {
    "name": "ipython",
    "version": 3
   },
   "file_extension": ".py",
   "mimetype": "text/x-python",
   "name": "python",
   "nbconvert_exporter": "python",
   "pygments_lexer": "ipython3",
   "version": "3.11.7"
  }
 },
 "nbformat": 4,
 "nbformat_minor": 5
}
