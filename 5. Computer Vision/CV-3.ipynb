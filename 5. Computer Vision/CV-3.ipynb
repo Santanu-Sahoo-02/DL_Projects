{
 "cells": [
  {
   "cell_type": "code",
   "execution_count": 3,
   "id": "e86fddda-a64a-40eb-a048-67d4ac04a325",
   "metadata": {},
   "outputs": [],
   "source": [
    "# import opencv 1ibrary\n",
    "import cv2"
   ]
  },
  {
   "cell_type": "code",
   "execution_count": 59,
   "id": "649af62b-960f-4b34-bcf3-d69e3eae3be5",
   "metadata": {},
   "outputs": [],
   "source": [
    "# Create cascadeclassifier for finding faces\n",
    "face_cascade = cv2.CascadeClassifier(\"haarcascade_frontalface_default.xml\")\n",
    "#face_cascade = cv2.CascadeClassifier(\"haarcascade_righteye_2splits.xml\")"
   ]
  },
  {
   "cell_type": "code",
   "execution_count": 60,
   "id": "ad34eee3-64f8-4227-9bfc-d5e24d63c1ec",
   "metadata": {},
   "outputs": [],
   "source": [
    "# load image\n",
    "img = cv2.imread(\"couple.jpg\")"
   ]
  },
  {
   "cell_type": "code",
   "execution_count": 61,
   "id": "add92260-5d6a-4e28-986d-9024f51e666e",
   "metadata": {},
   "outputs": [],
   "source": [
    "# convert image into gray\n",
    "gray_img = cv2.cvtColor(img, cv2.COLOR_BGR2GRAY)"
   ]
  },
  {
   "cell_type": "code",
   "execution_count": 62,
   "id": "b5b4330f-c75e-4f9d-81ef-546f3d54f56c",
   "metadata": {},
   "outputs": [],
   "source": [
    "# apply face cascade to the gray image\n",
    "faces = face_cascade.detectMultiScale(gray_img, scaleFactor=1.05, minNeighbors=5)"
   ]
  },
  {
   "cell_type": "code",
   "execution_count": 63,
   "id": "29e8abc3-79e9-48a6-a60e-619c335bb792",
   "metadata": {},
   "outputs": [
    {
     "name": "stdout",
     "output_type": "stream",
     "text": [
      "[[110 122  96  96]\n",
      " [191  43 110 110]]\n"
     ]
    }
   ],
   "source": [
    "# display the coordinates of rectangles where faces ar found\n",
    "print(faces)"
   ]
  },
  {
   "cell_type": "code",
   "execution_count": 64,
   "id": "b3da1fd7-f492-433c-bfb3-fcc823822e2e",
   "metadata": {},
   "outputs": [],
   "source": [
    "# draw rectangle around the faces in the original image\n",
    "# (255, 0,0 )--> BGR values, 3 --> thickness of line in rectangle\n",
    "for x,y,w,h in faces:\n",
    "    img = cv2.rectangle(img, (x,y), (x+w, y+h), (255,0,0), 3)"
   ]
  },
  {
   "cell_type": "code",
   "execution_count": 65,
   "id": "dd3f9fdf-cdbb-4465-9cac-5302fd3f9385",
   "metadata": {},
   "outputs": [],
   "source": [
    "#display the image til1 a key is pressed\n",
    "cv2.imshow(\"imageface\", img)\n",
    "cv2.waitKey (0)\n",
    "cv2.destroyAllWindows()"
   ]
  },
  {
   "cell_type": "code",
   "execution_count": null,
   "id": "49f1a837-b545-4e95-82b5-38ec535cf759",
   "metadata": {},
   "outputs": [],
   "source": []
  },
  {
   "cell_type": "code",
   "execution_count": null,
   "id": "0e7713c0-7a81-4340-8640-bf8c0831af74",
   "metadata": {},
   "outputs": [],
   "source": []
  }
 ],
 "metadata": {
  "kernelspec": {
   "display_name": "Python 3 (ipykernel)",
   "language": "python",
   "name": "python3"
  },
  "language_info": {
   "codemirror_mode": {
    "name": "ipython",
    "version": 3
   },
   "file_extension": ".py",
   "mimetype": "text/x-python",
   "name": "python",
   "nbconvert_exporter": "python",
   "pygments_lexer": "ipython3",
   "version": "3.11.7"
  }
 },
 "nbformat": 4,
 "nbformat_minor": 5
}
