{
 "cells": [
  {
   "cell_type": "code",
   "execution_count": 12,
   "id": "68d8c5c9-abf6-4b03-a83d-c1df1c5b7b93",
   "metadata": {},
   "outputs": [],
   "source": [
    "import cv2"
   ]
  },
  {
   "cell_type": "code",
   "execution_count": 13,
   "id": "33c9f9a1-0ad9-43e4-8c15-cc0706cedc6c",
   "metadata": {},
   "outputs": [],
   "source": [
    "img=cv2.imread('taj.png',1)\n",
    "img1=cv2.imread('taj.png',0)"
   ]
  },
  {
   "cell_type": "code",
   "execution_count": 14,
   "id": "c0cb19d1-dc60-4403-aa79-cbae4549a63c",
   "metadata": {},
   "outputs": [
    {
     "name": "stdout",
     "output_type": "stream",
     "text": [
      "[[[161 158 167]\n",
      "  [161 158 167]\n",
      "  [160 157 166]\n",
      "  ...\n",
      "  [178 181 185]\n",
      "  [169 171 175]\n",
      "  [110 113 116]]\n",
      "\n",
      " [[160 157 166]\n",
      "  [160 157 166]\n",
      "  [160 157 166]\n",
      "  ...\n",
      "  [178 181 185]\n",
      "  [169 172 175]\n",
      "  [110 113 117]]\n",
      "\n",
      " [[159 157 166]\n",
      "  [159 157 166]\n",
      "  [159 157 166]\n",
      "  ...\n",
      "  [178 181 184]\n",
      "  [169 172 175]\n",
      "  [110 113 117]]\n",
      "\n",
      " ...\n",
      "\n",
      " [[100 113 127]\n",
      "  [ 96 109 123]\n",
      "  [ 95 108 122]\n",
      "  ...\n",
      "  [ 54  58  69]\n",
      "  [ 61  65  76]\n",
      "  [ 38  42  52]]\n",
      "\n",
      " [[105 118 131]\n",
      "  [100 113 127]\n",
      "  [ 98 112 126]\n",
      "  ...\n",
      "  [ 95  99 111]\n",
      "  [116 121 132]\n",
      "  [ 80  85  95]]\n",
      "\n",
      " [[105 118 132]\n",
      "  [102 116 130]\n",
      "  [ 99 113 126]\n",
      "  ...\n",
      "  [ 93  97 109]\n",
      "  [109 113 125]\n",
      "  [ 75  80  90]]]\n"
     ]
    }
   ],
   "source": [
    "print(img)"
   ]
  },
  {
   "cell_type": "code",
   "execution_count": 15,
   "id": "e78bdb4e-b3b8-4bad-a88b-939f06cf5ed7",
   "metadata": {},
   "outputs": [
    {
     "data": {
      "text/plain": [
       "(471, 852, 3)"
      ]
     },
     "execution_count": 15,
     "metadata": {},
     "output_type": "execute_result"
    }
   ],
   "source": [
    "img.shape"
   ]
  },
  {
   "cell_type": "code",
   "execution_count": 16,
   "id": "a442aa10-acd5-4d1f-ab53-20ce2b859547",
   "metadata": {},
   "outputs": [
    {
     "name": "stdout",
     "output_type": "stream",
     "text": [
      "[[161 161 160 ... 182 172 114]\n",
      " [160 160 160 ... 182 173 115]\n",
      " [160 160 160 ... 182 173 115]\n",
      " ...\n",
      " [116 112 111 ...  61  68  46]\n",
      " [120 116 115 ... 102 124  87]\n",
      " [122 119 116 ...  99 117  82]]\n"
     ]
    }
   ],
   "source": [
    "print(img1)"
   ]
  },
  {
   "cell_type": "markdown",
   "id": "5ef25786-e9d8-4eea-9db0-ec5b06c3c984",
   "metadata": {},
   "source": [
    "img1.shape"
   ]
  },
  {
   "cell_type": "code",
   "execution_count": 18,
   "id": "52096d3a-1025-4673-b8cc-15253f23f0fc",
   "metadata": {},
   "outputs": [],
   "source": [
    "cv2.imshow(\"Taj-Mahal\", img)\n",
    "cv2.waitKey(0)\n",
    "cv2.destroyAllWindows()"
   ]
  }
 ],
 "metadata": {
  "kernelspec": {
   "display_name": "Python 3 (ipykernel)",
   "language": "python",
   "name": "python3"
  },
  "language_info": {
   "codemirror_mode": {
    "name": "ipython",
    "version": 3
   },
   "file_extension": ".py",
   "mimetype": "text/x-python",
   "name": "python",
   "nbconvert_exporter": "python",
   "pygments_lexer": "ipython3",
   "version": "3.11.7"
  }
 },
 "nbformat": 4,
 "nbformat_minor": 5
}
