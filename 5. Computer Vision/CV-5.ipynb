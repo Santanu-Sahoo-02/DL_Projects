{
 "cells": [
  {
   "cell_type": "code",
   "execution_count": 1,
   "id": "e5bdaa87-b002-47cf-97c4-bbafc2b3f9ba",
   "metadata": {},
   "outputs": [],
   "source": [
    "# import opencv library\n",
    "import cv2"
   ]
  },
  {
   "cell_type": "code",
   "execution_count": 2,
   "id": "7a0661fd-c7ce-4ef7-a7cb-c9115e7f4cfb",
   "metadata": {},
   "outputs": [],
   "source": [
    "# create CascadeClassifier for finding faces\n",
    "face_cascade= cv2.CascadeClassifier(\"haarcascade_frontalface_default.xml\")"
   ]
  },
  {
   "cell_type": "code",
   "execution_count": 3,
   "id": "d00f4e2f-c3f4-4d7a-b45b-f1b89dd26d62",
   "metadata": {},
   "outputs": [],
   "source": [
    "if not face_cascade:\n",
    "    print(\"Error loading face cascade file!\")\n",
    "else:\n",
    "    # Initialize the video capture device\n",
    "    cap = cv2.VideoCapture('videoplayback (2).mp4')\n",
    "\n",
    "    while True:\n",
    "        ret, frame = cap.read()  # read frame by frame.\n",
    "        gray_frame = cv2.cvtColor(frame, cv2.COLOR_BGR2GRAY)\n",
    "        faces = face_cascade.detectMultiScale(gray_frame, 1.3, 5)\n",
    "        # display the blue rectangles around faces in the frame\n",
    "        for (x,y,w,h) in faces:\n",
    "            cv2.rectangle(frame, (x, y), (x+w,y+h), (255,0,0),2)\n",
    "        # show the frame\n",
    "        cv2.imshow('img',frame)  # for color video\n",
    "        key = cv2.waitKey(1)  # display frame every 1 milliseconds\n",
    "        if key == ord('q'):  # if q is pressed terminate while loop\n",
    "            break\n",
    "\n",
    "    # close the video file and close all windows\n",
    "    cap.release()\n",
    "    cv2.destroyAllWindows()"
   ]
  },
  {
   "cell_type": "code",
   "execution_count": null,
   "id": "44287bd8-a52c-4739-8aec-3fbe16265c07",
   "metadata": {},
   "outputs": [],
   "source": []
  }
 ],
 "metadata": {
  "kernelspec": {
   "display_name": "Python 3 (ipykernel)",
   "language": "python",
   "name": "python3"
  },
  "language_info": {
   "codemirror_mode": {
    "name": "ipython",
    "version": 3
   },
   "file_extension": ".py",
   "mimetype": "text/x-python",
   "name": "python",
   "nbconvert_exporter": "python",
   "pygments_lexer": "ipython3",
   "version": "3.11.7"
  }
 },
 "nbformat": 4,
 "nbformat_minor": 5
}
