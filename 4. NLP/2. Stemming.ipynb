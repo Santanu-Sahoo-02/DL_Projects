{
 "cells": [
  {
   "cell_type": "code",
   "execution_count": 1,
   "id": "8b19fb60-1b0d-4f9f-bee7-00f7fbe99eaa",
   "metadata": {},
   "outputs": [],
   "source": [
    "#to do stemming on a group of words.\n",
    "# stemming using Porterstemmer\n",
    "from nltk.stem import PorterStemmer\n",
    "pst = PorterStemmer()"
   ]
  },
  {
   "cell_type": "code",
   "execution_count": 2,
   "id": "fba983f5-5714-4791-9bd7-4815882cbb55",
   "metadata": {},
   "outputs": [
    {
     "data": {
      "text/plain": [
       "'have'"
      ]
     },
     "execution_count": 2,
     "metadata": {},
     "output_type": "execute_result"
    }
   ],
   "source": [
    "# find root word for having\n",
    "pst.stem('having') # have"
   ]
  },
  {
   "cell_type": "code",
   "execution_count": 3,
   "id": "0290c17a-f4e2-4561-b391-bef8cb32ea5b",
   "metadata": {},
   "outputs": [
    {
     "name": "stdout",
     "output_type": "stream",
     "text": [
      "give  :  give\n",
      "giving  :  give\n",
      "given  :  given\n",
      " gave  :   gave\n"
     ]
    }
   ],
   "source": [
    "# find stem of a list of Words\n",
    "words=['give', 'giving', 'given', ' gave']\n",
    "for w in words:\n",
    "    print(w, \" : \", pst.stem(w))"
   ]
  },
  {
   "cell_type": "code",
   "execution_count": 5,
   "id": "28bf4ef3-acc8-4bba-86eb-e102f632e2c2",
   "metadata": {},
   "outputs": [],
   "source": [
    "# use another stemmer Lancasterstemmer\n",
    "from nltk.stem import LancasterStemmer\n",
    "lst = LancasterStemmer()"
   ]
  },
  {
   "cell_type": "code",
   "execution_count": 8,
   "id": "93664183-5a1b-4e5d-9f3a-bf6f3222427b",
   "metadata": {},
   "outputs": [
    {
     "name": "stdout",
     "output_type": "stream",
     "text": [
      "give  :  giv\n",
      "giving  :  giv\n",
      "given  :  giv\n",
      " gave  :   gave\n"
     ]
    }
   ],
   "source": [
    "for w in words:\n",
    "    print(w, \" : \", lst.stem(w))"
   ]
  },
  {
   "cell_type": "code",
   "execution_count": null,
   "id": "f1234c67-8181-452b-b437-7f391328e066",
   "metadata": {},
   "outputs": [],
   "source": []
  }
 ],
 "metadata": {
  "kernelspec": {
   "display_name": "Python 3 (ipykernel)",
   "language": "python",
   "name": "python3"
  },
  "language_info": {
   "codemirror_mode": {
    "name": "ipython",
    "version": 3
   },
   "file_extension": ".py",
   "mimetype": "text/x-python",
   "name": "python",
   "nbconvert_exporter": "python",
   "pygments_lexer": "ipython3",
   "version": "3.11.7"
  }
 },
 "nbformat": 4,
 "nbformat_minor": 5
}
