{
 "cells": [
  {
   "cell_type": "code",
   "execution_count": 10,
   "id": "0aa1a76f-4e56-446d-bb45-69f91098e35a",
   "metadata": {},
   "outputs": [
    {
     "name": "stderr",
     "output_type": "stream",
     "text": [
      "[nltk_data] Downloading package wordnet to C:\\Users\\Santanu\n",
      "[nltk_data]     Sahoo\\AppData\\Roaming\\nltk_data...\n"
     ]
    },
    {
     "data": {
      "text/plain": [
       "True"
      ]
     },
     "execution_count": 10,
     "metadata": {},
     "output_type": "execute_result"
    }
   ],
   "source": [
    "# to do lemmatization and find the correct root Word.\n",
    "# for lemmatization, it needs total dictionary\n",
    "import nltk\n",
    "nltk.download('wordnet')"
   ]
  },
  {
   "cell_type": "code",
   "execution_count": 11,
   "id": "3f744249-99fe-40a0-92fa-bdf87cdf6282",
   "metadata": {},
   "outputs": [],
   "source": [
    "# import the wordnet dictionary, WordNetLemmatizer\n",
    "from nltk.stem import wordnet\n",
    "from nltk.stem import WordNetLemmatizer\n",
    "wnl = WordNetLemmatizer()"
   ]
  },
  {
   "cell_type": "code",
   "execution_count": 12,
   "id": "93540a93-aa66-426f-a277-e5cda0b8b383",
   "metadata": {},
   "outputs": [
    {
     "data": {
      "text/plain": [
       "'corpus'"
      ]
     },
     "execution_count": 12,
     "metadata": {},
     "output_type": "execute_result"
    }
   ],
   "source": [
    "# lemmatize the word: corpora\n",
    "wnl.lemmatize('corpora')"
   ]
  },
  {
   "cell_type": "code",
   "execution_count": 13,
   "id": "20d73b01-941b-4111-aef8-c6c59a58354a",
   "metadata": {},
   "outputs": [
    {
     "name": "stdout",
     "output_type": "stream",
     "text": [
      "give  :  give\n",
      "giving  :  giving\n",
      "given  :  given\n",
      "gave  :  gave\n"
     ]
    }
   ],
   "source": [
    "# lemmatize a 1ist of words\n",
    "words = ['give', 'giving', 'given', 'gave']\n",
    "for w in words: \n",
    "    print(w, \" : \", wnl.lemmatize(w))"
   ]
  },
  {
   "cell_type": "code",
   "execution_count": 15,
   "id": "f571984e-1452-4e5a-a65f-d5c24900e888",
   "metadata": {},
   "outputs": [
    {
     "name": "stdout",
     "output_type": "stream",
     "text": [
      "give  :  give\n",
      "giving  :  give\n",
      "given  :  give\n",
      "gave  :  give\n"
     ]
    }
   ],
   "source": [
    "# to tell the lemmatizer to take the given Words as verb forms\n",
    "for w in words: \n",
    "    print(w, \" : \", wnl.lemmatize(w, pos= 'v'))"
   ]
  }
 ],
 "metadata": {
  "kernelspec": {
   "display_name": "Python 3 (ipykernel)",
   "language": "python",
   "name": "python3"
  },
  "language_info": {
   "codemirror_mode": {
    "name": "ipython",
    "version": 3
   },
   "file_extension": ".py",
   "mimetype": "text/x-python",
   "name": "python",
   "nbconvert_exporter": "python",
   "pygments_lexer": "ipython3",
   "version": "3.11.7"
  }
 },
 "nbformat": 4,
 "nbformat_minor": 5
}
