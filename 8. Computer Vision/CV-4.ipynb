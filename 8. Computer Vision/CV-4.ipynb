{
 "cells": [
  {
   "cell_type": "code",
   "execution_count": 42,
   "id": "e86fddda-a64a-40eb-a048-67d4ac04a325",
   "metadata": {},
   "outputs": [],
   "source": [
    "# import opencv 1ibrary\n",
    "import cv2"
   ]
  },
  {
   "cell_type": "code",
   "execution_count": 43,
   "id": "ad34eee3-64f8-4227-9bfc-d5e24d63c1ec",
   "metadata": {},
   "outputs": [],
   "source": [
    "# load image\n",
    "img = cv2.imread(\"friends_hello.png\")"
   ]
  },
  {
   "cell_type": "code",
   "execution_count": 44,
   "id": "add92260-5d6a-4e28-986d-9024f51e666e",
   "metadata": {},
   "outputs": [],
   "source": [
    "# convert image into gray image\n",
    "gray_img = cv2.cvtColor(img, cv2.COLOR_BGR2GRAY)"
   ]
  },
  {
   "cell_type": "code",
   "execution_count": 45,
   "id": "29b28c08-6cff-4458-bbc0-ac5ab542362f",
   "metadata": {},
   "outputs": [],
   "source": [
    "#using edge detection algorithm by John F. Canny.\n",
    "#30 to 200 pixel range threshold at edge will detect the contour.\n",
    "edged=cv2.Canny(gray_img, 30,200)"
   ]
  },
  {
   "cell_type": "code",
   "execution_count": 46,
   "id": "29e8abc3-79e9-48a6-a60e-619c335bb792",
   "metadata": {},
   "outputs": [],
   "source": [
    "# find contours in the edged image\n",
    "contours, hierarchy = cv2.findContours(edged, cv2.RETR_TREE, cv2.CHAIN_APPROX_SIMPLE)"
   ]
  },
  {
   "cell_type": "code",
   "execution_count": 47,
   "id": "b3da1fd7-f492-433c-bfb3-fcc823822e2e",
   "metadata": {},
   "outputs": [
    {
     "data": {
      "text/plain": [
       "array([[[255, 255, 255],\n",
       "        [255, 255, 255],\n",
       "        [255, 255, 255],\n",
       "        ...,\n",
       "        [255, 255, 255],\n",
       "        [255, 255, 255],\n",
       "        [255, 255, 255]],\n",
       "\n",
       "       [[255, 255, 255],\n",
       "        [255, 255, 255],\n",
       "        [255, 255, 255],\n",
       "        ...,\n",
       "        [255, 255, 255],\n",
       "        [255, 255, 255],\n",
       "        [255, 255, 255]],\n",
       "\n",
       "       [[255, 255, 255],\n",
       "        [255, 255, 255],\n",
       "        [255, 255, 255],\n",
       "        ...,\n",
       "        [255, 255, 255],\n",
       "        [255, 255, 255],\n",
       "        [255, 255, 255]],\n",
       "\n",
       "       ...,\n",
       "\n",
       "       [[255, 255, 255],\n",
       "        [255, 255, 255],\n",
       "        [255, 255, 255],\n",
       "        ...,\n",
       "        [255, 255, 255],\n",
       "        [255, 255, 255],\n",
       "        [255, 255, 255]],\n",
       "\n",
       "       [[255, 255, 255],\n",
       "        [255, 255, 255],\n",
       "        [255, 255, 255],\n",
       "        ...,\n",
       "        [255, 255, 255],\n",
       "        [255, 255, 255],\n",
       "        [255, 255, 255]],\n",
       "\n",
       "       [[255, 255, 255],\n",
       "        [255, 255, 255],\n",
       "        [255, 255, 255],\n",
       "        ...,\n",
       "        [255, 255, 255],\n",
       "        [255, 255, 255],\n",
       "        [255, 255, 255]]], dtype=uint8)"
      ]
     },
     "execution_count": 47,
     "metadata": {},
     "output_type": "execute_result"
    }
   ],
   "source": [
    "# draw contours in the original image\n",
    "# -1 for total image. (0,255,0) -> Green, 2 width of line\n",
    "cv2.drawContours(img, contours, -1,(0,255,0), 2)"
   ]
  },
  {
   "cell_type": "code",
   "execution_count": 48,
   "id": "dd3f9fdf-cdbb-4465-9cac-5302fd3f9385",
   "metadata": {},
   "outputs": [],
   "source": [
    "#display the image til1 a key is pressed\n",
    "cv2.imshow(\"An-Image\", img)\n",
    "cv2.waitKey (0)\n",
    "cv2.destroyAllWindows()"
   ]
  },
  {
   "cell_type": "code",
   "execution_count": null,
   "id": "49f1a837-b545-4e95-82b5-38ec535cf759",
   "metadata": {},
   "outputs": [],
   "source": []
  },
  {
   "cell_type": "code",
   "execution_count": null,
   "id": "0e7713c0-7a81-4340-8640-bf8c0831af74",
   "metadata": {},
   "outputs": [],
   "source": []
  }
 ],
 "metadata": {
  "kernelspec": {
   "display_name": "Python 3 (ipykernel)",
   "language": "python",
   "name": "python3"
  },
  "language_info": {
   "codemirror_mode": {
    "name": "ipython",
    "version": 3
   },
   "file_extension": ".py",
   "mimetype": "text/x-python",
   "name": "python",
   "nbconvert_exporter": "python",
   "pygments_lexer": "ipython3",
   "version": "3.11.7"
  }
 },
 "nbformat": 4,
 "nbformat_minor": 5
}
